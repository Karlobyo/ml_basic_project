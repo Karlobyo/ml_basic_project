{
 "cells": [
  {
   "cell_type": "markdown",
   "id": "c3667c1c",
   "metadata": {},
   "source": [
    "# My project notebook"
   ]
  },
  {
   "cell_type": "code",
   "execution_count": 1,
   "id": "9838cf88",
   "metadata": {},
   "outputs": [],
   "source": [
    "import numpy as np"
   ]
  },
  {
   "cell_type": "code",
   "execution_count": 3,
   "id": "eb8274fb",
   "metadata": {},
   "outputs": [
    {
     "data": {
      "text/plain": [
       "2"
      ]
     },
     "execution_count": 3,
     "metadata": {},
     "output_type": "execute_result"
    }
   ],
   "source": [
    "np.random.randint(1, 10)"
   ]
  },
  {
   "cell_type": "code",
   "execution_count": 5,
   "id": "a796a788",
   "metadata": {},
   "outputs": [],
   "source": [
    "!pip list | grep nbdime"
   ]
  },
  {
   "cell_type": "code",
   "execution_count": 6,
   "id": "36d928d8",
   "metadata": {
    "collapsed": true
   },
   "outputs": [
    {
     "name": "stdout",
     "output_type": "stream",
     "text": [
      "Collecting nbdime\n",
      "  Downloading nbdime-4.0.1-py3-none-any.whl.metadata (9.5 kB)\n",
      "Requirement already satisfied: colorama in /Users/carlobarbini/.pyenv/versions/3.10.6/envs/lewagon/lib/python3.10/site-packages (from nbdime) (0.4.5)\n",
      "Requirement already satisfied: gitpython!=2.1.4,!=2.1.5,!=2.1.6 in /Users/carlobarbini/.pyenv/versions/3.10.6/envs/lewagon/lib/python3.10/site-packages (from nbdime) (3.1.29)\n",
      "Requirement already satisfied: jinja2>=2.9 in /Users/carlobarbini/.pyenv/versions/3.10.6/envs/lewagon/lib/python3.10/site-packages (from nbdime) (3.1.2)\n",
      "Requirement already satisfied: jupyter-server in /Users/carlobarbini/.pyenv/versions/3.10.6/envs/lewagon/lib/python3.10/site-packages (from nbdime) (1.21.0)\n",
      "Collecting jupyter-server-mathjax>=0.2.2 (from nbdime)\n",
      "  Downloading jupyter_server_mathjax-0.2.6-py3-none-any.whl.metadata (2.1 kB)\n",
      "Requirement already satisfied: nbformat in /Users/carlobarbini/.pyenv/versions/3.10.6/envs/lewagon/lib/python3.10/site-packages (from nbdime) (5.7.0)\n",
      "Requirement already satisfied: pygments in /Users/carlobarbini/.pyenv/versions/3.10.6/envs/lewagon/lib/python3.10/site-packages (from nbdime) (2.13.0)\n",
      "Requirement already satisfied: requests in /Users/carlobarbini/.pyenv/versions/3.10.6/envs/lewagon/lib/python3.10/site-packages (from nbdime) (2.28.1)\n",
      "Requirement already satisfied: tornado in /Users/carlobarbini/.pyenv/versions/3.10.6/envs/lewagon/lib/python3.10/site-packages (from nbdime) (6.2)\n",
      "Requirement already satisfied: gitdb<5,>=4.0.1 in /Users/carlobarbini/.pyenv/versions/3.10.6/envs/lewagon/lib/python3.10/site-packages (from gitpython!=2.1.4,!=2.1.5,!=2.1.6->nbdime) (4.0.9)\n",
      "Requirement already satisfied: MarkupSafe>=2.0 in /Users/carlobarbini/.pyenv/versions/3.10.6/envs/lewagon/lib/python3.10/site-packages (from jinja2>=2.9->nbdime) (2.1.1)\n",
      "Requirement already satisfied: anyio<4,>=3.1.0 in /Users/carlobarbini/.pyenv/versions/3.10.6/envs/lewagon/lib/python3.10/site-packages (from jupyter-server->nbdime) (3.7.1)\n",
      "Requirement already satisfied: argon2-cffi in /Users/carlobarbini/.pyenv/versions/3.10.6/envs/lewagon/lib/python3.10/site-packages (from jupyter-server->nbdime) (21.3.0)\n",
      "Requirement already satisfied: jupyter-client>=6.1.12 in /Users/carlobarbini/.pyenv/versions/3.10.6/envs/lewagon/lib/python3.10/site-packages (from jupyter-server->nbdime) (7.4.3)\n",
      "Requirement already satisfied: jupyter-core>=4.7.0 in /Users/carlobarbini/.pyenv/versions/3.10.6/envs/lewagon/lib/python3.10/site-packages (from jupyter-server->nbdime) (4.11.2)\n",
      "Requirement already satisfied: nbconvert>=6.4.4 in /Users/carlobarbini/.pyenv/versions/3.10.6/envs/lewagon/lib/python3.10/site-packages (from jupyter-server->nbdime) (6.5.4)\n",
      "Requirement already satisfied: packaging in /Users/carlobarbini/.pyenv/versions/3.10.6/envs/lewagon/lib/python3.10/site-packages (from jupyter-server->nbdime) (21.3)\n",
      "Requirement already satisfied: prometheus-client in /Users/carlobarbini/.pyenv/versions/3.10.6/envs/lewagon/lib/python3.10/site-packages (from jupyter-server->nbdime) (0.15.0)\n",
      "Requirement already satisfied: pyzmq>=17 in /Users/carlobarbini/.pyenv/versions/3.10.6/envs/lewagon/lib/python3.10/site-packages (from jupyter-server->nbdime) (24.0.1)\n",
      "Requirement already satisfied: Send2Trash in /Users/carlobarbini/.pyenv/versions/3.10.6/envs/lewagon/lib/python3.10/site-packages (from jupyter-server->nbdime) (1.8.0)\n",
      "Requirement already satisfied: terminado>=0.8.3 in /Users/carlobarbini/.pyenv/versions/3.10.6/envs/lewagon/lib/python3.10/site-packages (from jupyter-server->nbdime) (0.16.0)\n",
      "Requirement already satisfied: traitlets>=5.1 in /Users/carlobarbini/.pyenv/versions/3.10.6/envs/lewagon/lib/python3.10/site-packages (from jupyter-server->nbdime) (5.5.0)\n",
      "Requirement already satisfied: websocket-client in /Users/carlobarbini/.pyenv/versions/3.10.6/envs/lewagon/lib/python3.10/site-packages (from jupyter-server->nbdime) (1.4.1)\n",
      "Requirement already satisfied: fastjsonschema in /Users/carlobarbini/.pyenv/versions/3.10.6/envs/lewagon/lib/python3.10/site-packages (from nbformat->nbdime) (2.16.2)\n",
      "Requirement already satisfied: jsonschema>=2.6 in /Users/carlobarbini/.pyenv/versions/3.10.6/envs/lewagon/lib/python3.10/site-packages (from nbformat->nbdime) (4.16.0)\n",
      "Requirement already satisfied: charset-normalizer<3,>=2 in /Users/carlobarbini/.pyenv/versions/3.10.6/envs/lewagon/lib/python3.10/site-packages (from requests->nbdime) (2.1.1)\n",
      "Requirement already satisfied: idna<4,>=2.5 in /Users/carlobarbini/.pyenv/versions/3.10.6/envs/lewagon/lib/python3.10/site-packages (from requests->nbdime) (3.4)\n",
      "Requirement already satisfied: urllib3<1.27,>=1.21.1 in /Users/carlobarbini/.pyenv/versions/3.10.6/envs/lewagon/lib/python3.10/site-packages (from requests->nbdime) (1.26.12)\n",
      "Requirement already satisfied: certifi>=2017.4.17 in /Users/carlobarbini/.pyenv/versions/3.10.6/envs/lewagon/lib/python3.10/site-packages (from requests->nbdime) (2022.9.24)\n",
      "Requirement already satisfied: sniffio>=1.1 in /Users/carlobarbini/.pyenv/versions/3.10.6/envs/lewagon/lib/python3.10/site-packages (from anyio<4,>=3.1.0->jupyter-server->nbdime) (1.3.0)\n",
      "Requirement already satisfied: exceptiongroup in /Users/carlobarbini/.pyenv/versions/3.10.6/envs/lewagon/lib/python3.10/site-packages (from anyio<4,>=3.1.0->jupyter-server->nbdime) (1.2.0)\n",
      "Requirement already satisfied: smmap<6,>=3.0.1 in /Users/carlobarbini/.pyenv/versions/3.10.6/envs/lewagon/lib/python3.10/site-packages (from gitdb<5,>=4.0.1->gitpython!=2.1.4,!=2.1.5,!=2.1.6->nbdime) (5.0.0)\n",
      "Requirement already satisfied: attrs>=17.4.0 in /Users/carlobarbini/.pyenv/versions/3.10.6/envs/lewagon/lib/python3.10/site-packages (from jsonschema>=2.6->nbformat->nbdime) (22.1.0)\n",
      "Requirement already satisfied: pyrsistent!=0.17.0,!=0.17.1,!=0.17.2,>=0.14.0 in /Users/carlobarbini/.pyenv/versions/3.10.6/envs/lewagon/lib/python3.10/site-packages (from jsonschema>=2.6->nbformat->nbdime) (0.18.1)\n",
      "Requirement already satisfied: entrypoints in /Users/carlobarbini/.pyenv/versions/3.10.6/envs/lewagon/lib/python3.10/site-packages (from jupyter-client>=6.1.12->jupyter-server->nbdime) (0.4)\n",
      "Requirement already satisfied: nest-asyncio>=1.5.4 in /Users/carlobarbini/.pyenv/versions/3.10.6/envs/lewagon/lib/python3.10/site-packages (from jupyter-client>=6.1.12->jupyter-server->nbdime) (1.5.6)\n",
      "Requirement already satisfied: python-dateutil>=2.8.2 in /Users/carlobarbini/.pyenv/versions/3.10.6/envs/lewagon/lib/python3.10/site-packages (from jupyter-client>=6.1.12->jupyter-server->nbdime) (2.8.2)\n",
      "Requirement already satisfied: lxml in /Users/carlobarbini/.pyenv/versions/3.10.6/envs/lewagon/lib/python3.10/site-packages (from nbconvert>=6.4.4->jupyter-server->nbdime) (4.9.1)\n",
      "Requirement already satisfied: beautifulsoup4 in /Users/carlobarbini/.pyenv/versions/3.10.6/envs/lewagon/lib/python3.10/site-packages (from nbconvert>=6.4.4->jupyter-server->nbdime) (4.11.1)\n",
      "Requirement already satisfied: bleach in /Users/carlobarbini/.pyenv/versions/3.10.6/envs/lewagon/lib/python3.10/site-packages (from nbconvert>=6.4.4->jupyter-server->nbdime) (5.0.1)\n",
      "Requirement already satisfied: defusedxml in /Users/carlobarbini/.pyenv/versions/3.10.6/envs/lewagon/lib/python3.10/site-packages (from nbconvert>=6.4.4->jupyter-server->nbdime) (0.7.1)\n",
      "Requirement already satisfied: jupyterlab-pygments in /Users/carlobarbini/.pyenv/versions/3.10.6/envs/lewagon/lib/python3.10/site-packages (from nbconvert>=6.4.4->jupyter-server->nbdime) (0.2.2)\n",
      "Requirement already satisfied: mistune<2,>=0.8.1 in /Users/carlobarbini/.pyenv/versions/3.10.6/envs/lewagon/lib/python3.10/site-packages (from nbconvert>=6.4.4->jupyter-server->nbdime) (0.8.4)\n",
      "Requirement already satisfied: nbclient>=0.5.0 in /Users/carlobarbini/.pyenv/versions/3.10.6/envs/lewagon/lib/python3.10/site-packages (from nbconvert>=6.4.4->jupyter-server->nbdime) (0.7.0)\n",
      "Requirement already satisfied: pandocfilters>=1.4.1 in /Users/carlobarbini/.pyenv/versions/3.10.6/envs/lewagon/lib/python3.10/site-packages (from nbconvert>=6.4.4->jupyter-server->nbdime) (1.5.0)\n",
      "Requirement already satisfied: tinycss2 in /Users/carlobarbini/.pyenv/versions/3.10.6/envs/lewagon/lib/python3.10/site-packages (from nbconvert>=6.4.4->jupyter-server->nbdime) (1.2.1)\n",
      "Requirement already satisfied: ptyprocess in /Users/carlobarbini/.pyenv/versions/3.10.6/envs/lewagon/lib/python3.10/site-packages (from terminado>=0.8.3->jupyter-server->nbdime) (0.7.0)\n"
     ]
    },
    {
     "name": "stdout",
     "output_type": "stream",
     "text": [
      "Requirement already satisfied: argon2-cffi-bindings in /Users/carlobarbini/.pyenv/versions/3.10.6/envs/lewagon/lib/python3.10/site-packages (from argon2-cffi->jupyter-server->nbdime) (21.2.0)\n",
      "Requirement already satisfied: pyparsing!=3.0.5,>=2.0.2 in /Users/carlobarbini/.pyenv/versions/3.10.6/envs/lewagon/lib/python3.10/site-packages (from packaging->jupyter-server->nbdime) (3.0.9)\n",
      "Requirement already satisfied: six>=1.5 in /Users/carlobarbini/.pyenv/versions/3.10.6/envs/lewagon/lib/python3.10/site-packages (from python-dateutil>=2.8.2->jupyter-client>=6.1.12->jupyter-server->nbdime) (1.16.0)\n",
      "Requirement already satisfied: cffi>=1.0.1 in /Users/carlobarbini/.pyenv/versions/3.10.6/envs/lewagon/lib/python3.10/site-packages (from argon2-cffi-bindings->argon2-cffi->jupyter-server->nbdime) (1.15.1)\n",
      "Requirement already satisfied: soupsieve>1.2 in /Users/carlobarbini/.pyenv/versions/3.10.6/envs/lewagon/lib/python3.10/site-packages (from beautifulsoup4->nbconvert>=6.4.4->jupyter-server->nbdime) (2.3.2.post1)\n",
      "Requirement already satisfied: webencodings in /Users/carlobarbini/.pyenv/versions/3.10.6/envs/lewagon/lib/python3.10/site-packages (from bleach->nbconvert>=6.4.4->jupyter-server->nbdime) (0.5.1)\n",
      "Requirement already satisfied: pycparser in /Users/carlobarbini/.pyenv/versions/3.10.6/envs/lewagon/lib/python3.10/site-packages (from cffi>=1.0.1->argon2-cffi-bindings->argon2-cffi->jupyter-server->nbdime) (2.21)\n",
      "Downloading nbdime-4.0.1-py3-none-any.whl (5.9 MB)\n",
      "\u001b[2K   \u001b[38;2;114;156;31m━━━━━━━━━━━━━━━━━━━━━━━━━━━━━━━━━━━━━━━━\u001b[0m \u001b[32m5.9/5.9 MB\u001b[0m \u001b[31m14.1 MB/s\u001b[0m eta \u001b[36m0:00:00\u001b[0mm eta \u001b[36m0:00:01\u001b[0m0:01\u001b[0m:01\u001b[0m\n",
      "\u001b[?25hDownloading jupyter_server_mathjax-0.2.6-py3-none-any.whl (3.1 MB)\n",
      "\u001b[2K   \u001b[38;2;114;156;31m━━━━━━━━━━━━━━━━━━━━━━━━━━━━━━━━━━━━━━━━\u001b[0m \u001b[32m3.1/3.1 MB\u001b[0m \u001b[31m23.1 MB/s\u001b[0m eta \u001b[36m0:00:00\u001b[0mm eta \u001b[36m0:00:01\u001b[0m0:01\u001b[0m:01\u001b[0m\n",
      "\u001b[?25hInstalling collected packages: jupyter-server-mathjax, nbdime\n",
      "Successfully installed jupyter-server-mathjax-0.2.6 nbdime-4.0.1\n"
     ]
    }
   ],
   "source": [
    "!pip install nbdime"
   ]
  },
  {
   "cell_type": "code",
   "execution_count": 7,
   "id": "7c10d40f",
   "metadata": {
    "collapsed": true
   },
   "outputs": [
    {
     "name": "stdout",
     "output_type": "stream",
     "text": [
      "Enabling: nbdime\n",
      "- Writing config: /Users/carlobarbini/.jupyter\n",
      "    - Validating...\n",
      "      nbdime 4.0.1 \u001b[32mOK\u001b[0m\n",
      "Installing /Users/carlobarbini/.pyenv/versions/3.10.6/envs/lewagon/lib/python3.10/site-packages/nbdime/notebook_ext -> nbdime\n",
      "Traceback (most recent call last):\n",
      "  File \"/Users/carlobarbini/.pyenv/versions/lewagon/bin/jupyter-nbextension\", line 8, in <module>\n",
      "    sys.exit(main())\n",
      "  File \"/Users/carlobarbini/.pyenv/versions/3.10.6/envs/lewagon/lib/python3.10/site-packages/jupyter_core/application.py\", line 269, in launch_instance\n",
      "    return super().launch_instance(argv=argv, **kwargs)\n",
      "  File \"/Users/carlobarbini/.pyenv/versions/3.10.6/envs/lewagon/lib/python3.10/site-packages/traitlets/config/application.py\", line 982, in launch_instance\n",
      "    app.start()\n",
      "  File \"/Users/carlobarbini/.pyenv/versions/3.10.6/envs/lewagon/lib/python3.10/site-packages/notebook/nbextensions.py\", line 972, in start\n",
      "    super().start()\n",
      "  File \"/Users/carlobarbini/.pyenv/versions/3.10.6/envs/lewagon/lib/python3.10/site-packages/jupyter_core/application.py\", line 258, in start\n",
      "    self.subapp.start()\n",
      "  File \"/Users/carlobarbini/.pyenv/versions/3.10.6/envs/lewagon/lib/python3.10/site-packages/notebook/nbextensions.py\", line 702, in start\n",
      "    self.install_extensions()\n",
      "  File \"/Users/carlobarbini/.pyenv/versions/3.10.6/envs/lewagon/lib/python3.10/site-packages/notebook/nbextensions.py\", line 675, in install_extensions\n",
      "    full_dests = install(self.extra_args[0],\n",
      "  File \"/Users/carlobarbini/.pyenv/versions/3.10.6/envs/lewagon/lib/python3.10/site-packages/notebook/nbextensions.py\", line 214, in install_nbextension_python\n",
      "    full_dest = install_nbextension(\n",
      "  File \"/Users/carlobarbini/.pyenv/versions/3.10.6/envs/lewagon/lib/python3.10/site-packages/notebook/nbextensions.py\", line 118, in install_nbextension\n",
      "    ensure_dir_exists(nbext)\n",
      "  File \"/Users/carlobarbini/.pyenv/versions/3.10.6/envs/lewagon/lib/python3.10/site-packages/jupyter_core/utils/__init__.py\", line 12, in ensure_dir_exists\n",
      "    os.makedirs(path, mode=mode)\n",
      "  File \"/Users/carlobarbini/.pyenv/versions/3.10.6/lib/python3.10/os.py\", line 215, in makedirs\n",
      "    makedirs(head, exist_ok=exist_ok)\n",
      "  File \"/Users/carlobarbini/.pyenv/versions/3.10.6/lib/python3.10/os.py\", line 215, in makedirs\n",
      "    makedirs(head, exist_ok=exist_ok)\n",
      "  File \"/Users/carlobarbini/.pyenv/versions/3.10.6/lib/python3.10/os.py\", line 225, in makedirs\n",
      "    mkdir(name, mode)\n",
      "PermissionError: [Errno 13] Permission denied: '/usr/local/share'\n",
      "Enabling notebook extension nbdime/index...\n",
      "      - Validating: \u001b[32mOK\u001b[0m\n",
      "An error occurred.\n",
      "ValueError: Please install Node.js and npm before continuing installation. You may be able to install Node.js from your package manager, from conda, or directly from the Node.js website (https://nodejs.org).\n",
      "See the log file for details:  /var/folders/1r/yj1jtysj0nqbjp3y4m5j8wmm0000gn/T/jupyterlab-debug-frtz12p0.log\n"
     ]
    }
   ],
   "source": [
    "!nbdime extensions --enable"
   ]
  },
  {
   "cell_type": "code",
   "execution_count": null,
   "id": "9ec177d0",
   "metadata": {},
   "outputs": [],
   "source": [
    "nbdime diff-web "
   ]
  },
  {
   "cell_type": "code",
   "execution_count": 1,
   "id": "c9b46b3d",
   "metadata": {},
   "outputs": [],
   "source": [
    "l = [x for x in range(16)]"
   ]
  },
  {
   "cell_type": "code",
   "execution_count": 2,
   "id": "2b299fed",
   "metadata": {},
   "outputs": [
    {
     "data": {
      "text/plain": [
       "[0, 1, 2, 3, 4, 5, 6, 7, 8, 9, 10, 11, 12, 13, 14, 15]"
      ]
     },
     "execution_count": 2,
     "metadata": {},
     "output_type": "execute_result"
    }
   ],
   "source": [
    "l"
   ]
  },
  {
   "cell_type": "code",
   "execution_count": 3,
   "id": "5f8b08c3",
   "metadata": {},
   "outputs": [
    {
     "name": "stdout",
     "output_type": "stream",
     "text": [
      "On branch addition_func\r\n",
      "nothing to commit, working tree clean\r\n"
     ]
    }
   ],
   "source": [
    "! git status\n"
   ]
  },
  {
   "cell_type": "code",
   "execution_count": 5,
   "id": "05a85662",
   "metadata": {},
   "outputs": [
    {
     "name": "stdout",
     "output_type": "stream",
     "text": [
      "0\n",
      "3\n",
      "6\n",
      "9\n",
      "12\n"
     ]
    }
   ],
   "source": [
    "for i in range (5):\n",
    "    print(i*3)"
   ]
  },
  {
   "cell_type": "code",
   "execution_count": null,
   "id": "74cfc8e4",
   "metadata": {},
   "outputs": [],
   "source": [
    "\n"
   ]
  }
 ],
 "metadata": {
  "kernelspec": {
   "display_name": "Python 3 (ipykernel)",
   "language": "python",
   "name": "python3"
  },
  "language_info": {
   "codemirror_mode": {
    "name": "ipython",
    "version": 3
   },
   "file_extension": ".py",
   "mimetype": "text/x-python",
   "name": "python",
   "nbconvert_exporter": "python",
   "pygments_lexer": "ipython3",
   "version": "3.10.6"
  },
  "toc": {
   "base_numbering": 1,
   "nav_menu": {},
   "number_sections": true,
   "sideBar": true,
   "skip_h1_title": false,
   "title_cell": "Table of Contents",
   "title_sidebar": "Contents",
   "toc_cell": false,
   "toc_position": {},
   "toc_section_display": true,
   "toc_window_display": false
  }
 },
 "nbformat": 4,
 "nbformat_minor": 5
}
